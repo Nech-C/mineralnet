{
 "cells": [
  {
   "cell_type": "code",
   "execution_count": 1,
   "metadata": {},
   "outputs": [
    {
     "name": "stderr",
     "output_type": "stream",
     "text": [
      "c:\\Users\\Nech\\anaconda3\\envs\\mineralnet\\Lib\\site-packages\\tqdm\\auto.py:21: TqdmWarning: IProgress not found. Please update jupyter and ipywidgets. See https://ipywidgets.readthedocs.io/en/stable/user_install.html\n",
      "  from .autonotebook import tqdm as notebook_tqdm\n"
     ]
    }
   ],
   "source": [
    "import torch, torchvision\n",
    "import wandb\n",
    "import datasets\n",
    "\n",
    "from utils.model_utils import load_model\n"
   ]
  },
  {
   "cell_type": "code",
   "execution_count": 2,
   "metadata": {},
   "outputs": [],
   "source": [
    "ds = datasets.load_dataset('Nech-C/mineralimage5K-98')"
   ]
  },
  {
   "cell_type": "code",
   "execution_count": 6,
   "metadata": {},
   "outputs": [
    {
     "data": {
      "text/plain": [
       "DatasetDict({\n",
       "    train: Dataset({\n",
       "        features: ['image', 'name', 'description', 'mineral_boxes'],\n",
       "        num_rows: 12828\n",
       "    })\n",
       "    validation: Dataset({\n",
       "        features: ['image', 'name', 'description', 'mineral_boxes'],\n",
       "        num_rows: 2749\n",
       "    })\n",
       "    test: Dataset({\n",
       "        features: ['image', 'name', 'description', 'mineral_boxes'],\n",
       "        num_rows: 2749\n",
       "    })\n",
       "})"
      ]
     },
     "execution_count": 6,
     "metadata": {},
     "output_type": "execute_result"
    }
   ],
   "source": [
    "ds"
   ]
  },
  {
   "cell_type": "code",
   "execution_count": 3,
   "metadata": {},
   "outputs": [],
   "source": [
    "train_ds = ds['train']\n",
    "test_ds = ds['test']\n",
    "val_ds = ds['validation']"
   ]
  },
  {
   "cell_type": "code",
   "execution_count": 4,
   "metadata": {},
   "outputs": [],
   "source": [
    "from utils.image_preprocess import train_preprocess, preprocess"
   ]
  },
  {
   "cell_type": "code",
   "execution_count": 6,
   "metadata": {},
   "outputs": [
    {
     "data": {
      "text/plain": [
       "{'image': <PIL.JpegImagePlugin.JpegImageFile image mode=RGB size=1024x831>,\n",
       " 'name': 9,\n",
       " 'description': 'graphic pegmatite.\\n\\n12x8.5 cm.',\n",
       " 'mineral_boxes': [{'box': [0.15918, 0.06859, 0.89551, 0.90734],\n",
       "   'confidence': 0.234,\n",
       "   'label': 'a stone'}]}"
      ]
     },
     "execution_count": 6,
     "metadata": {},
     "output_type": "execute_result"
    }
   ],
   "source": [
    "train_ds[0]"
   ]
  },
  {
   "cell_type": "code",
   "execution_count": 5,
   "metadata": {},
   "outputs": [],
   "source": [
    "train_ds.set_transform(train_preprocess)\n",
    "test_ds.set_transform(preprocess)\n",
    "val_ds.set_transform(preprocess)"
   ]
  },
  {
   "cell_type": "code",
   "execution_count": 8,
   "metadata": {},
   "outputs": [
    {
     "data": {
      "text/plain": [
       "{'image': <PIL.JpegImagePlugin.JpegImageFile image mode=RGB size=1024x831>,\n",
       " 'name': 9,\n",
       " 'description': 'graphic pegmatite.\\n\\n12x8.5 cm.',\n",
       " 'mineral_boxes': [{'box': [0.15918, 0.06859, 0.89551, 0.90734],\n",
       "   'confidence': 0.234,\n",
       "   'label': 'a stone'}],\n",
       " 'pixel_values': tensor([[[-1.9809, -1.9809, -1.9809,  ..., -1.9809, -1.9809, -1.9809],\n",
       "          [-1.9809, -1.9809, -1.9809,  ..., -1.9809, -1.9809, -1.9809],\n",
       "          [-1.9809, -1.9809, -1.9809,  ..., -1.9809, -1.9809, -1.9809],\n",
       "          ...,\n",
       "          [ 0.7419,  0.6734,  0.6221,  ..., -0.1143, -0.1314, -0.1314],\n",
       "          [ 0.8276,  0.6906,  0.7933,  ..., -0.2171, -0.1657, -0.2513],\n",
       "          [ 0.9474,  0.7762,  0.8618,  ..., -0.3541, -0.1486, -0.2513]],\n",
       " \n",
       "         [[-1.8957, -1.8957, -1.8957,  ..., -1.8957, -1.8957, -1.8957],\n",
       "          [-1.8957, -1.8957, -1.8957,  ..., -1.8957, -1.8957, -1.8957],\n",
       "          [-1.8957, -1.8957, -1.8957,  ..., -1.8957, -1.8957, -1.8957],\n",
       "          ...,\n",
       "          [ 1.1856,  1.1331,  1.0630,  ...,  0.3627,  0.3277,  0.2927],\n",
       "          [ 1.2731,  1.1331,  1.2206,  ...,  0.2402,  0.2927,  0.1877],\n",
       "          [ 1.3782,  1.1856,  1.2731,  ...,  0.1352,  0.3102,  0.1877]],\n",
       " \n",
       "         [[-1.6650, -1.6650, -1.6650,  ..., -1.6650, -1.6650, -1.6650],\n",
       "          [-1.6650, -1.6650, -1.6650,  ..., -1.6650, -1.6650, -1.6650],\n",
       "          [-1.6650, -1.6650, -1.6650,  ..., -1.6650, -1.6650, -1.6650],\n",
       "          ...,\n",
       "          [ 0.9494,  0.8797,  0.8448,  ..., -0.1487, -0.1487, -0.0615],\n",
       "          [ 1.0365,  0.9145,  1.0191,  ..., -0.2707, -0.1835, -0.1835],\n",
       "          [ 1.1585,  1.0017,  1.0888,  ..., -0.3578, -0.1661, -0.1835]]])}"
      ]
     },
     "execution_count": 8,
     "metadata": {},
     "output_type": "execute_result"
    }
   ],
   "source": [
    "train_ds[0]"
   ]
  },
  {
   "cell_type": "code",
   "execution_count": 6,
   "metadata": {},
   "outputs": [],
   "source": [
    "def collate_fn(examples):\n",
    "    pixel_values = torch.stack([example[\"pixel_values\"] for example in examples])\n",
    "    labels = torch.tensor([example[\"name\"] for example in examples])\n",
    "    return {\"pixel_values\": pixel_values, \"labels\": labels}"
   ]
  },
  {
   "cell_type": "code",
   "execution_count": 7,
   "metadata": {},
   "outputs": [],
   "source": [
    "import numpy as np\n",
    "import evaluate\n",
    "accuracy = evaluate.load(\"accuracy\")\n",
    "\n",
    "# the compute_metrics function takes a Named Tuple as input:\n",
    "# predictions, which are the logits of the model as Numpy arrays,\n",
    "# and label_ids, which are the ground-truth labels as Numpy arrays.\n",
    "def compute_metrics(eval_pred):\n",
    "    \"\"\"Computes accuracy on a batch of predictions\"\"\"\n",
    "    predictions = np.argmax(eval_pred[\"predictions\"], axis=1)\n",
    "    return accuracy.compute(predictions=predictions, references=eval_pred[\"label_ids\"])"
   ]
  },
  {
   "cell_type": "code",
   "execution_count": 20,
   "metadata": {},
   "outputs": [],
   "source": [
    "batch_size = 256\n",
    "lr_rate = 0.0008\n",
    "num_epoch = 25\n",
    "weight_decay = 0.02\n",
    "label_smoothing_factor = 0.1"
   ]
  },
  {
   "cell_type": "code",
   "execution_count": 21,
   "metadata": {},
   "outputs": [],
   "source": [
    "train_data_loader = torch.utils.data.DataLoader(train_ds, batch_size=batch_size, collate_fn=collate_fn, shuffle=True)\n",
    "test_data_loader = torch.utils.data.DataLoader(test_ds, batch_size=batch_size, collate_fn=collate_fn, shuffle=True)\n",
    "val_data_loader = torch.utils.data.DataLoader(val_ds, batch_size=batch_size, collate_fn=collate_fn, shuffle=True)"
   ]
  },
  {
   "cell_type": "code",
   "execution_count": null,
   "metadata": {},
   "outputs": [
    {
     "name": "stderr",
     "output_type": "stream",
     "text": [
      "Using cache found in C:\\Users\\Nech/.cache\\torch\\hub\\pytorch_vision_main\n"
     ]
    },
    {
     "data": {
      "text/html": [
       "Finishing last run (ID:7asfrqrj) before initializing another..."
      ],
      "text/plain": [
       "<IPython.core.display.HTML object>"
      ]
     },
     "metadata": {},
     "output_type": "display_data"
    },
    {
     "data": {
      "text/html": [
       "<style>\n",
       "    table.wandb td:nth-child(1) { padding: 0 10px; text-align: left ; width: auto;} td:nth-child(2) {text-align: left ; width: 100%}\n",
       "    .wandb-row { display: flex; flex-direction: row; flex-wrap: wrap; justify-content: flex-start; width: 100% }\n",
       "    .wandb-col { display: flex; flex-direction: column; flex-basis: 100%; flex: 1; padding: 10px; }\n",
       "    </style>\n",
       "<div class=\"wandb-row\"><div class=\"wandb-col\"><h3>Run history:</h3><br/><table class=\"wandb\"><tr><td>train_loss</td><td>█▆▅▃▃▁</td></tr></table><br/></div><div class=\"wandb-col\"><h3>Run summary:</h3><br/><table class=\"wandb\"><tr><td>train_loss</td><td>4.25416</td></tr></table><br/></div></div>"
      ],
      "text/plain": [
       "<IPython.core.display.HTML object>"
      ]
     },
     "metadata": {},
     "output_type": "display_data"
    },
    {
     "data": {
      "text/html": [
       " View run <strong style=\"color:#cdcd00\">pious-tree-15</strong> at: <a href='https://wandb.ai/nechs-team/mineral-net/runs/7asfrqrj' target=\"_blank\">https://wandb.ai/nechs-team/mineral-net/runs/7asfrqrj</a><br/> View project at: <a href='https://wandb.ai/nechs-team/mineral-net' target=\"_blank\">https://wandb.ai/nechs-team/mineral-net</a><br/>Synced 5 W&B file(s), 0 media file(s), 2 artifact file(s) and 0 other file(s)"
      ],
      "text/plain": [
       "<IPython.core.display.HTML object>"
      ]
     },
     "metadata": {},
     "output_type": "display_data"
    },
    {
     "data": {
      "text/html": [
       "Find logs at: <code>.\\wandb\\run-20241113_233703-7asfrqrj\\logs</code>"
      ],
      "text/plain": [
       "<IPython.core.display.HTML object>"
      ]
     },
     "metadata": {},
     "output_type": "display_data"
    },
    {
     "data": {
      "text/html": [
       "Successfully finished last run (ID:7asfrqrj). Initializing new run:<br/>"
      ],
      "text/plain": [
       "<IPython.core.display.HTML object>"
      ]
     },
     "metadata": {},
     "output_type": "display_data"
    },
    {
     "data": {
      "text/html": [
       "Tracking run with wandb version 0.18.5"
      ],
      "text/plain": [
       "<IPython.core.display.HTML object>"
      ]
     },
     "metadata": {},
     "output_type": "display_data"
    },
    {
     "data": {
      "text/html": [
       "Run data is saved locally in <code>c:\\Users\\Nech\\projects\\python_projects\\mineralnet\\wandb\\run-20241113_234813-8xbd1a92</code>"
      ],
      "text/plain": [
       "<IPython.core.display.HTML object>"
      ]
     },
     "metadata": {},
     "output_type": "display_data"
    },
    {
     "data": {
      "text/html": [
       "Syncing run <strong><a href='https://wandb.ai/nechs-team/mineral-net/runs/8xbd1a92' target=\"_blank\">worthy-capybara-16</a></strong> to <a href='https://wandb.ai/nechs-team/mineral-net' target=\"_blank\">Weights & Biases</a> (<a href='https://wandb.me/run' target=\"_blank\">docs</a>)<br/>"
      ],
      "text/plain": [
       "<IPython.core.display.HTML object>"
      ]
     },
     "metadata": {},
     "output_type": "display_data"
    },
    {
     "data": {
      "text/html": [
       " View project at <a href='https://wandb.ai/nechs-team/mineral-net' target=\"_blank\">https://wandb.ai/nechs-team/mineral-net</a>"
      ],
      "text/plain": [
       "<IPython.core.display.HTML object>"
      ]
     },
     "metadata": {},
     "output_type": "display_data"
    },
    {
     "data": {
      "text/html": [
       " View run at <a href='https://wandb.ai/nechs-team/mineral-net/runs/8xbd1a92' target=\"_blank\">https://wandb.ai/nechs-team/mineral-net/runs/8xbd1a92</a>"
      ],
      "text/plain": [
       "<IPython.core.display.HTML object>"
      ]
     },
     "metadata": {},
     "output_type": "display_data"
    }
   ],
   "source": [
    "import torch\n",
    "import wandb\n",
    "\n",
    "model = load_model('./configs/models/resnext101_32x8d_ver1.0.0.toml')\n",
    "\n",
    "device = 'cuda' if torch.cuda.is_available() else 'cpu'\n",
    "\n",
    "wandb.init(\n",
    "    project='mineral-net',\n",
    "    config={\n",
    "        \"learning_rate\": lr_rate,\n",
    "        \"num_epoch\": num_epoch,\n",
    "        \"batch_size\": batch_size,\n",
    "        \"weight_decay\": weight_decay,\n",
    "    }\n",
    ")\n",
    "\n",
    "artifact = wandb.Artifact(\"config\", type=\"config\")\n",
    "artifact.add_file(\"./configs/models/resnext101_32x8d_ver1.0.0.toml\")\n",
    "wandb.log_artifact(artifact)\n",
    "\n",
    "optimizer = torch.optim.AdamW(model.parameters(), lr=lr_rate, weight_decay=weight_decay)\n",
    "\n",
    "import torch.optim.lr_scheduler as lr_scheduler\n",
    "scheduler = lr_scheduler.CosineAnnealingWarmRestarts(optimizer, T_0=10, T_mult=2)\n",
    "\n",
    "model.to(device)\n",
    "for epoch in range(num_epoch):\n",
    "    model.train()\n",
    "    for batch in train_data_loader:\n",
    "        pixel_values = batch['pixel_values'].to(device)\n",
    "        labels = batch['labels'].to(device)\n",
    "        \n",
    "        outputs = model(pixel_values)\n",
    "        loss = torch.nn.functional.cross_entropy(outputs, labels, label_smoothing=label_smoothing_factor)\n",
    "        \n",
    "        loss.backward()\n",
    "        optimizer.step()\n",
    "        optimizer.zero_grad()   \n",
    "        wandb.log({\"train_loss\": loss.item()})\n",
    "    scheduler.step()\n",
    "    \n",
    "    with torch.no_grad():\n",
    "        model.eval()\n",
    "        tot_loss = 0\n",
    "        for batch in val_data_loader:\n",
    "            pixel_values = batch['pixel_values'].to(device)\n",
    "            labels = batch['labels'].to(device)\n",
    "            \n",
    "            outputs = model(pixel_values)\n",
    "            loss = torch.nn.functional.cross_entropy(outputs, labels)\n",
    "            tot_loss += loss.item()\n",
    "            \n",
    "        wandb.log({\"val_loss\": tot_loss/len(val_data_loader)})\n",
    "\n",
    "    wandb.log({\"epoch\": epoch})\n",
    "\n",
    "# Final testing phase with metrics\n",
    "with torch.no_grad():\n",
    "    model.eval()\n",
    "    tot_loss = 0\n",
    "    all_preds = []\n",
    "    all_labels = []\n",
    "    for batch in test_data_loader:\n",
    "        pixel_values = batch['pixel_values'].to(device)\n",
    "        labels = batch['labels'].to(device)\n",
    "        \n",
    "        outputs = model(pixel_values)\n",
    "        loss = torch.nn.functional.cross_entropy(outputs, labels)\n",
    "        tot_loss += loss.item()\n",
    "        all_preds.append(outputs.cpu())\n",
    "        all_labels.append(labels.cpu())\n",
    "\n",
    "    all_preds = torch.cat(all_preds)\n",
    "    all_labels = torch.cat(all_labels)\n",
    "    wandb.log({\"test_loss\": tot_loss/len(test_data_loader)})\n",
    "    wandb.log(compute_metrics({\"predictions\": all_preds, \"label_ids\": all_labels}))\n",
    "\n",
    "wandb.finish()\n"
   ]
  },
  {
   "cell_type": "code",
   "execution_count": 53,
   "metadata": {},
   "outputs": [],
   "source": [
    "wandb.log(compute_metrics({\"predictions\": outputs.cpu(), \"label_ids\": labels.cpu()}))"
   ]
  },
  {
   "cell_type": "code",
   "execution_count": null,
   "metadata": {},
   "outputs": [],
   "source": [
    "torch.save(model.state_dict(), '101_2.pth')"
   ]
  },
  {
   "cell_type": "code",
   "execution_count": 21,
   "metadata": {},
   "outputs": [
    {
     "data": {
      "text/html": [
       "<style>\n",
       "    table.wandb td:nth-child(1) { padding: 0 10px; text-align: left ; width: auto;} td:nth-child(2) {text-align: left ; width: 100%}\n",
       "    .wandb-row { display: flex; flex-direction: row; flex-wrap: wrap; justify-content: flex-start; width: 100% }\n",
       "    .wandb-col { display: flex; flex-direction: column; flex-basis: 100%; flex: 1; padding: 10px; }\n",
       "    </style>\n",
       "<div class=\"wandb-row\"><div class=\"wandb-col\"><h3>Run history:</h3><br/><table class=\"wandb\"><tr><td>train_loss</td><td>▁</td></tr></table><br/></div><div class=\"wandb-col\"><h3>Run summary:</h3><br/><table class=\"wandb\"><tr><td>train_loss</td><td>91.79338</td></tr></table><br/></div></div>"
      ],
      "text/plain": [
       "<IPython.core.display.HTML object>"
      ]
     },
     "metadata": {},
     "output_type": "display_data"
    },
    {
     "data": {
      "text/html": [
       " View run <strong style=\"color:#cdcd00\">whole-paper-8</strong> at: <a href='https://wandb.ai/nechs-team/mineral-net/runs/tdsltgkp' target=\"_blank\">https://wandb.ai/nechs-team/mineral-net/runs/tdsltgkp</a><br/> View project at: <a href='https://wandb.ai/nechs-team/mineral-net' target=\"_blank\">https://wandb.ai/nechs-team/mineral-net</a><br/>Synced 5 W&B file(s), 0 media file(s), 0 artifact file(s) and 0 other file(s)"
      ],
      "text/plain": [
       "<IPython.core.display.HTML object>"
      ]
     },
     "metadata": {},
     "output_type": "display_data"
    },
    {
     "data": {
      "text/html": [
       "Find logs at: <code>.\\wandb\\run-20241110_225143-tdsltgkp\\logs</code>"
      ],
      "text/plain": [
       "<IPython.core.display.HTML object>"
      ]
     },
     "metadata": {},
     "output_type": "display_data"
    }
   ],
   "source": [
    "wandb.finish()"
   ]
  }
 ],
 "metadata": {
  "kernelspec": {
   "display_name": "mineralnet",
   "language": "python",
   "name": "python3"
  },
  "language_info": {
   "codemirror_mode": {
    "name": "ipython",
    "version": 3
   },
   "file_extension": ".py",
   "mimetype": "text/x-python",
   "name": "python",
   "nbconvert_exporter": "python",
   "pygments_lexer": "ipython3",
   "version": "3.11.10"
  }
 },
 "nbformat": 4,
 "nbformat_minor": 2
}
