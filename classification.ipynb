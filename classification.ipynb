{
 "cells": [
  {
   "cell_type": "code",
   "execution_count": 26,
   "metadata": {},
   "outputs": [],
   "source": [
    "from utils.loading import load_model"
   ]
  },
  {
   "cell_type": "code",
   "execution_count": 2,
   "metadata": {},
   "outputs": [
    {
     "name": "stdout",
     "output_type": "stream",
     "text": [
      "2.5.0+cu124\n",
      "0.20.0+cu124\n"
     ]
    }
   ],
   "source": [
    "import torch\n",
    "import torchvision\n",
    "print(torch.__version__)\n",
    "print(torchvision.__version__)\n"
   ]
  },
  {
   "cell_type": "code",
   "execution_count": 3,
   "metadata": {},
   "outputs": [
    {
     "name": "stderr",
     "output_type": "stream",
     "text": [
      "Using cache found in C:\\Users\\Nech/.cache\\torch\\hub\\pytorch_vision_main\n",
      "c:\\Users\\Nech\\anaconda3\\envs\\mineralnet\\Lib\\site-packages\\torchvision\\models\\_utils.py:208: UserWarning: The parameter 'pretrained' is deprecated since 0.13 and may be removed in the future, please use 'weights' instead.\n",
      "  warnings.warn(\n",
      "c:\\Users\\Nech\\anaconda3\\envs\\mineralnet\\Lib\\site-packages\\torchvision\\models\\_utils.py:223: UserWarning: Arguments other than a weight enum or `None` for 'weights' are deprecated since 0.13 and may be removed in the future. The current behavior is equivalent to passing `weights=ResNet50_Weights.IMAGENET1K_V1`. You can also use `weights=ResNet50_Weights.DEFAULT` to get the most up-to-date weights.\n",
      "  warnings.warn(msg)\n"
     ]
    }
   ],
   "source": [
    "import torch\n",
    "model = torch.hub.load('pytorch/vision', 'resnet50', pretrained=True)"
   ]
  },
  {
   "cell_type": "code",
   "execution_count": 60,
   "metadata": {},
   "outputs": [
    {
     "data": {
      "text/plain": [
       "{'from': 'pytorch',\n",
       " 'backbone': {'repo_or_dir': 'pytorch/vision',\n",
       "  'model': 'resnet18',\n",
       "  'pretrained': True},\n",
       " 'module_swap': [{'target': 'fc',\n",
       "   'new_module': [{'torch_module': 'Linear',\n",
       "     'args': {'in_features': 2, 'out_features': 10}},\n",
       "    {'torch_module': 'Linear',\n",
       "     'args': {'in_features': 2, 'out_features': 10}}]}]}"
      ]
     },
     "execution_count": 60,
     "metadata": {},
     "output_type": "execute_result"
    }
   ],
   "source": [
    "import toml\n",
    "model_config_path = './configs/models/model_template.toml'\n",
    "model_config = toml.load(model_config_path)\n",
    "model_config"
   ]
  },
  {
   "cell_type": "code",
   "execution_count": 62,
   "metadata": {},
   "outputs": [],
   "source": [
    "from typing import Union, List, Dict\n",
    "\n",
    "import torch.nn as nn\n",
    "import toml\n",
    "\n",
    "\n",
    "def load_model(toml_path):\n",
    "    \"\"\"load pretrained model from toml config with possible modification\"\"\"\n",
    "    config = toml.load(toml_path)\n",
    "    model = None\n",
    "\n",
    "    # load model from model repo\n",
    "    if 'torch' in config['from']:\n",
    "        import torch\n",
    "        model = torch.hub.load(\n",
    "            **config['backbone'])\n",
    "    else:\n",
    "        print('Not implemented yet')\n",
    "\n",
    "    # modify model\n",
    "    if 'module_swap' in config:\n",
    "        for swap in config['module_swap']:\n",
    "            new_module = load_module(swap['new_module'])\n",
    "            setattr(model, swap['target'], new_module)\n",
    "    return model\n",
    "\n",
    "def load_module(\n",
    "    module_config: Union[Dict, List[Dict]]\n",
    "):\n",
    "    \"\"\"load module defined in toml config\"\"\"\n",
    "    if isinstance(module_config, dict):\n",
    "        module_class = getattr(nn, module_config['torch_module'])\n",
    "        module = module_class(**module_config['args'])\n",
    "        return module\n",
    "\n",
    "    return nn.ModuleList([load_module(module) for module in module_config])"
   ]
  },
  {
   "cell_type": "code",
   "execution_count": 63,
   "metadata": {},
   "outputs": [
    {
     "name": "stderr",
     "output_type": "stream",
     "text": [
      "Using cache found in C:\\Users\\Nech/.cache\\torch\\hub\\pytorch_vision_main\n"
     ]
    }
   ],
   "source": [
    "model = load_model(model_config_path)\n"
   ]
  },
  {
   "cell_type": "code",
   "execution_count": 25,
   "metadata": {},
   "outputs": [],
   "source": [
    "module"
   ]
  }
 ],
 "metadata": {
  "kernelspec": {
   "display_name": "mineralnet",
   "language": "python",
   "name": "python3"
  },
  "language_info": {
   "codemirror_mode": {
    "name": "ipython",
    "version": 3
   },
   "file_extension": ".py",
   "mimetype": "text/x-python",
   "name": "python",
   "nbconvert_exporter": "python",
   "pygments_lexer": "ipython3",
   "version": "3.11.10"
  }
 },
 "nbformat": 4,
 "nbformat_minor": 2
}
